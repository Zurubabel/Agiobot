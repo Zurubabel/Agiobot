{
 "metadata": {
  "language_info": {
   "codemirror_mode": {
    "name": "ipython",
    "version": 3
   },
   "file_extension": ".py",
   "mimetype": "text/x-python",
   "name": "python",
   "nbconvert_exporter": "python",
   "pygments_lexer": "ipython3",
   "version": "3.8.5"
  },
  "orig_nbformat": 2,
  "kernelspec": {
   "name": "python3",
   "display_name": "Python 3.8.5 64-bit ('base': conda)"
  },
  "interpreter": {
   "hash": "b3ba2566441a7c06988d0923437866b63cedc61552a5af99d1f4fb67d367b25f"
  }
 },
 "nbformat": 4,
 "nbformat_minor": 2,
 "cells": [
  {
   "cell_type": "code",
   "execution_count": 1,
   "source": [
    "# Link do wikipedia - https://pt.wikipedia.org/wiki/Lista_de_munic%C3%ADpios_do_Brasil"
   ],
   "outputs": [],
   "metadata": {}
  },
  {
   "cell_type": "code",
   "execution_count": 2,
   "source": [
    "# Bibliotecas (importar agora, pois eu vou esquecer)\r\n",
    "import pandas as pd\r\n",
    "from bs4 import BeautifulSoup\r\n",
    "from urllib.request import urlopen\r\n",
    "import re"
   ],
   "outputs": [],
   "metadata": {}
  },
  {
   "cell_type": "code",
   "execution_count": 38,
   "source": [
    "# Abrindo a página do Wikipedia\r\n",
    "url = \"https://pt.wikipedia.org/wiki/Lista_de_munic%C3%ADpios_do_Brasil\"\r\n",
    "html = urlopen(url)"
   ],
   "outputs": [],
   "metadata": {}
  },
  {
   "cell_type": "code",
   "execution_count": 39,
   "source": [
    "# Criando o objeto do BeautifulSoup\r\n",
    "soup = BeautifulSoup(html, \"html.parser\")"
   ],
   "outputs": [],
   "metadata": {}
  },
  {
   "cell_type": "code",
   "execution_count": 86,
   "source": [
    "# Criando o padrão de expressão regular para obter os dados a partir das siglas\r\n",
    "padrao_estado = re.compile(\" \\([A-Z]{2}\\)$\")"
   ],
   "outputs": [],
   "metadata": {}
  },
  {
   "cell_type": "code",
   "execution_count": 41,
   "source": [
    "# Adicionando as cidades e estados (menos eficiente)\r\n",
    "\r\n",
    "# Criando o Dataframe para os dados\r\n",
    "df = pd.DataFrame(columns=([\"cidade\", \"estado\"]))\r\n",
    "\r\n",
    "for linha in soup.find_all(\"li\"):\r\n",
    "    #if padrao_estado.search(linha):\r\n",
    "    if padrao_estado.search(linha.text):\r\n",
    "        dados = re.split(\" \\(\", linha.text.replace(\")\",\"\"))\r\n",
    "        df = df.append({\"cidade\": dados[0], \"estado\": dados[1]}, ignore_index=True)"
   ],
   "outputs": [],
   "metadata": {
    "tags": []
   }
  },
  {
   "cell_type": "code",
   "execution_count": 7,
   "source": [
    "df.head()"
   ],
   "outputs": [
    {
     "output_type": "execute_result",
     "data": {
      "text/plain": [
       "                cidade estado\n",
       "0      Abadia de Goiás     GO\n",
       "1  Abadia dos Dourados     MG\n",
       "2            Abadiânia     GO\n",
       "3               Abaeté     MG\n",
       "4           Abaetetuba     PA"
      ],
      "text/html": [
       "<div>\n",
       "<style scoped>\n",
       "    .dataframe tbody tr th:only-of-type {\n",
       "        vertical-align: middle;\n",
       "    }\n",
       "\n",
       "    .dataframe tbody tr th {\n",
       "        vertical-align: top;\n",
       "    }\n",
       "\n",
       "    .dataframe thead th {\n",
       "        text-align: right;\n",
       "    }\n",
       "</style>\n",
       "<table border=\"1\" class=\"dataframe\">\n",
       "  <thead>\n",
       "    <tr style=\"text-align: right;\">\n",
       "      <th></th>\n",
       "      <th>cidade</th>\n",
       "      <th>estado</th>\n",
       "    </tr>\n",
       "  </thead>\n",
       "  <tbody>\n",
       "    <tr>\n",
       "      <th>0</th>\n",
       "      <td>Abadia de Goiás</td>\n",
       "      <td>GO</td>\n",
       "    </tr>\n",
       "    <tr>\n",
       "      <th>1</th>\n",
       "      <td>Abadia dos Dourados</td>\n",
       "      <td>MG</td>\n",
       "    </tr>\n",
       "    <tr>\n",
       "      <th>2</th>\n",
       "      <td>Abadiânia</td>\n",
       "      <td>GO</td>\n",
       "    </tr>\n",
       "    <tr>\n",
       "      <th>3</th>\n",
       "      <td>Abaeté</td>\n",
       "      <td>MG</td>\n",
       "    </tr>\n",
       "    <tr>\n",
       "      <th>4</th>\n",
       "      <td>Abaetetuba</td>\n",
       "      <td>PA</td>\n",
       "    </tr>\n",
       "  </tbody>\n",
       "</table>\n",
       "</div>"
      ]
     },
     "metadata": {},
     "execution_count": 7
    }
   ],
   "metadata": {}
  },
  {
   "cell_type": "code",
   "execution_count": 45,
   "source": [
    "# Novo dataframe para mostrar a diferença entre os códigos\r\n",
    "df1 = pd.DataFrame(columns=([\"cidade\", \"estado\"]))\r\n",
    "lista_linhas = []\r\n",
    "\r\n",
    "for linha in soup.find_all(\"li\"):\r\n",
    "    # Verficando se é o valor das cidades/estados\r\n",
    "    if padrao_estado.search(linha.text):\r\n",
    "        valores = re.split(\" \\(\", linha.text.replace(\")\",\"\"))\r\n",
    "        lista_linhas.append({\"cidade\": valores[0], \"estado\": valores[1]})"
   ],
   "outputs": [],
   "metadata": {}
  },
  {
   "cell_type": "code",
   "execution_count": 49,
   "source": [
    "# Criar o dataframe final\r\n",
    "df1 = pd.concat([pd.DataFrame([valor]) for valor in lista_linhas], ignore_index=True)"
   ],
   "outputs": [],
   "metadata": {}
  },
  {
   "cell_type": "code",
   "execution_count": 50,
   "source": [
    "df1.head()"
   ],
   "outputs": [
    {
     "output_type": "execute_result",
     "data": {
      "text/plain": [
       "                cidade estado\n",
       "0      Abadia de Goiás     GO\n",
       "1  Abadia dos Dourados     MG\n",
       "2            Abadiânia     GO\n",
       "3               Abaeté     MG\n",
       "4           Abaetetuba     PA"
      ],
      "text/html": [
       "<div>\n",
       "<style scoped>\n",
       "    .dataframe tbody tr th:only-of-type {\n",
       "        vertical-align: middle;\n",
       "    }\n",
       "\n",
       "    .dataframe tbody tr th {\n",
       "        vertical-align: top;\n",
       "    }\n",
       "\n",
       "    .dataframe thead th {\n",
       "        text-align: right;\n",
       "    }\n",
       "</style>\n",
       "<table border=\"1\" class=\"dataframe\">\n",
       "  <thead>\n",
       "    <tr style=\"text-align: right;\">\n",
       "      <th></th>\n",
       "      <th>cidade</th>\n",
       "      <th>estado</th>\n",
       "    </tr>\n",
       "  </thead>\n",
       "  <tbody>\n",
       "    <tr>\n",
       "      <th>0</th>\n",
       "      <td>Abadia de Goiás</td>\n",
       "      <td>GO</td>\n",
       "    </tr>\n",
       "    <tr>\n",
       "      <th>1</th>\n",
       "      <td>Abadia dos Dourados</td>\n",
       "      <td>MG</td>\n",
       "    </tr>\n",
       "    <tr>\n",
       "      <th>2</th>\n",
       "      <td>Abadiânia</td>\n",
       "      <td>GO</td>\n",
       "    </tr>\n",
       "    <tr>\n",
       "      <th>3</th>\n",
       "      <td>Abaeté</td>\n",
       "      <td>MG</td>\n",
       "    </tr>\n",
       "    <tr>\n",
       "      <th>4</th>\n",
       "      <td>Abaetetuba</td>\n",
       "      <td>PA</td>\n",
       "    </tr>\n",
       "  </tbody>\n",
       "</table>\n",
       "</div>"
      ]
     },
     "metadata": {},
     "execution_count": 50
    }
   ],
   "metadata": {}
  },
  {
   "cell_type": "code",
   "execution_count": 11,
   "source": [
    "# Acessando o SQL Server\r\n",
    "import pyodbc"
   ],
   "outputs": [],
   "metadata": {}
  },
  {
   "cell_type": "code",
   "execution_count": 24,
   "source": [
    "driver = \"SQL Server\"\r\n",
    "server = \"DESKTOP-15TQLGD\\SQLEXPRESS\"\r\n",
    "base_dados = \"Agiobot\"\r\n",
    "# Concatenando direto no parâmetro\r\n",
    "# conexao = pyodbc.connect(\"DRIVER=\" + driver + \"; Server=\" + server + \"; Database=\" + base_dados + \"; TrustedConnection=yes\")\r\n",
    "# Concatenando em uma outra variável\r\n",
    "string_conexao = 'DRIVER={0}; Server={1}; Database={2}; TrustedConnection=yes'.format(driver, server, base_dados)\r\n",
    "conexao = pyodbc.connect(string_conexao)\r\n",
    "cursor = conexao.cursor()"
   ],
   "outputs": [],
   "metadata": {}
  },
  {
   "cell_type": "code",
   "execution_count": 68,
   "source": [
    "# Testando se conectou\r\n",
    "cursor.execute(\"SELECT * FROM tbl_Cidades\")"
   ],
   "outputs": [
    {
     "output_type": "execute_result",
     "data": {
      "text/plain": [
       "<pyodbc.Cursor at 0x1af0e356730>"
      ]
     },
     "metadata": {},
     "execution_count": 68
    }
   ],
   "metadata": {}
  },
  {
   "cell_type": "code",
   "execution_count": 69,
   "source": [
    "linha = cursor.fetchone()\r\n",
    "res = []\r\n",
    "while linha:\r\n",
    "    for coluna in linha:\r\n",
    "        res.append(coluna)\r\n",
    "    print(res)\r\n",
    "    res = []\r\n",
    "    linha = cursor.fetchone()"
   ],
   "outputs": [],
   "metadata": {}
  },
  {
   "cell_type": "code",
   "execution_count": 89,
   "source": [
    "# Lista de tuplas sem o Pandas\r\n",
    "df1 = pd.DataFrame(columns=([\"cidade\", \"estado\"]))\r\n",
    "lista_linhas = []\r\n",
    "\r\n",
    "for linha in soup.find_all(\"li\"):\r\n",
    "    # Verficando se é o valor das cidades/estados\r\n",
    "    if padrao_estado.search(linha.text):\r\n",
    "        #valores = re.split(\" \\(\", linha.text.replace(\")\",\"\"))\r\n",
    "        valores = padrao_estado.split(linha.text)\r\n",
    "        valores[1] = linha.text[-3:-1]\r\n",
    "        lista_linhas.append((valores[0], valores[1]))"
   ],
   "outputs": [],
   "metadata": {}
  },
  {
   "cell_type": "code",
   "execution_count": 53,
   "source": [
    "# Executando a inserção de uma linha\r\n",
    "cursor.execute(\"INSERT INTO tbl_Cidades(nomeCidade, siglaEstado) VALUES (?,?)\", lista_linhas[0])"
   ],
   "outputs": [
    {
     "output_type": "execute_result",
     "data": {
      "text/plain": [
       "<pyodbc.Cursor at 0x1af0e356730>"
      ]
     },
     "metadata": {},
     "execution_count": 53
    }
   ],
   "metadata": {}
  },
  {
   "cell_type": "code",
   "execution_count": 90,
   "source": [
    "# Executando a inserção com várias linhas\r\n",
    "cursor.executemany(\"INSERT INTO tbl_Cidades(nomeCidade, siglaEstado) VALUES (?,?)\", lista_linhas)"
   ],
   "outputs": [],
   "metadata": {}
  },
  {
   "cell_type": "code",
   "execution_count": 83,
   "source": [
    "re.split(\" \\([A-Z]{2}\\)$\", \"Arez (Rio Grande do Norte) (RN)\")"
   ],
   "outputs": [
    {
     "output_type": "execute_result",
     "data": {
      "text/plain": [
       "['Arez (Rio Grande do Norte)', '']"
      ]
     },
     "metadata": {},
     "execution_count": 83
    }
   ],
   "metadata": {}
  },
  {
   "cell_type": "code",
   "execution_count": 85,
   "source": [
    "\"Arez (Rio Grande do Norte) (RN)\"[-3:-1]"
   ],
   "outputs": [
    {
     "output_type": "execute_result",
     "data": {
      "text/plain": [
       "'RN'"
      ]
     },
     "metadata": {},
     "execution_count": 85
    }
   ],
   "metadata": {}
  },
  {
   "cell_type": "code",
   "execution_count": 87,
   "source": [
    "padrao_estado.split(\"Arez (Rio Grande do Norte) (RN)\")"
   ],
   "outputs": [
    {
     "output_type": "execute_result",
     "data": {
      "text/plain": [
       "['Arez (Rio Grande do Norte)', '']"
      ]
     },
     "metadata": {},
     "execution_count": 87
    }
   ],
   "metadata": {}
  }
 ]
}